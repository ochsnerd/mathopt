{
 "cells": [
  {
   "cell_type": "markdown",
   "metadata": {},
   "source": [
    "# Exercise: Simplex pivots in the short tableau\n",
    "<font color='blue'><b>Goal:</b></font>\n",
    "Writing a function to perform one pivot step in the short tableau.\n",
    "\n",
    "<font color='blue'><b>Required packages:</b></font>`numpy`"
   ]
  },
  {
   "cell_type": "markdown",
   "metadata": {},
   "source": [
    "Suppose you are given the following LP from the lecture notes:\n",
    "\n",
    "$$\\begin{equation}\\label{eq:sampleTermLp}\n",
    "\\begin{array}{rrcrcll}\n",
    "\\max z = &400 x_1 &+ &900 x_2 &       &    & \\\\\n",
    "         &x_1     &+ &4 x_2   & \\leq  &40  & \\text{(constraint 1)} \\\\\n",
    "         &2x_1    &+ & x_2    & \\leq  &42  & \\text{(constraint 2)}\\\\\n",
    "         &1.5x_1  &+ &3x_2    & \\leq  &36  & \\text{(constraint 3)}\\\\\n",
    "         &x_1     &  &        & \\geq  &0   & \\text{(non-negativity for $x_1$)}\\\\\n",
    "         &        &  &x_2     & \\geq  &0   & \\text{(non-negativity for $x_2$)}\\\\\n",
    "\\end{array}\n",
    "\\end{equation}$$\n",
    "This problem's graphical presentation looks as follows:\n",
    "\n",
    "![](04_pivoting_fig1.png)\n",
    "\n",
    "After adding slack variables, you obtain the short tableau\n",
    "$$\\begin{array}{c|rr|r}\n",
    "&x_1&x_2&1\\\\\n",
    "\\hline\n",
    "z&-400&-900&0\\\\\n",
    "\\hline\n",
    "y_1&1&4&40\\\\\n",
    "y_2&2&1&42\\\\\n",
    "y_3&1.5&3&36\n",
    "\\end{array}$$\n",
    "\n",
    "We will implement a function to perform pivoting steps on short tableaus as for example the one above."
   ]
  },
  {
   "cell_type": "markdown",
   "metadata": {},
   "source": [
    "## Additional `numpy` functionality\n",
    "For your task, you will need to perform row operations. When working with matrices in `numpy`, this can be done as follows. Let us first create a matrix $A$:"
   ]
  },
  {
   "cell_type": "code",
   "execution_count": 3,
   "metadata": {},
   "outputs": [
    {
     "data": {
      "text/plain": [
       "matrix([[1, 2],\n",
       "        [3, 4],\n",
       "        [5, 6]])"
      ]
     },
     "execution_count": 3,
     "metadata": {},
     "output_type": "execute_result"
    }
   ],
   "source": [
    "import numpy as np\n",
    "A = np.matrix(\n",
    "[\n",
    "    [1,2],\n",
    "    [3,4],\n",
    "    [5,6]\n",
    "])\n",
    "A"
   ]
  },
  {
   "cell_type": "markdown",
   "metadata": {},
   "source": [
    "To obtain the first row, we type"
   ]
  },
  {
   "cell_type": "code",
   "execution_count": 4,
   "metadata": {},
   "outputs": [
    {
     "data": {
      "text/plain": [
       "matrix([[1, 2]])"
      ]
     },
     "execution_count": 4,
     "metadata": {},
     "output_type": "execute_result"
    }
   ],
   "source": [
    "A[0,:]"
   ]
  },
  {
   "cell_type": "markdown",
   "metadata": {},
   "source": [
    "Subtracting the first row from the second, for example, can be done with the code"
   ]
  },
  {
   "cell_type": "code",
   "execution_count": 5,
   "metadata": {},
   "outputs": [
    {
     "data": {
      "text/plain": [
       "matrix([[1, 2],\n",
       "        [2, 2],\n",
       "        [5, 6]])"
      ]
     },
     "execution_count": 5,
     "metadata": {},
     "output_type": "execute_result"
    }
   ],
   "source": [
    "A[1,:] = A[1,:] - A[0,:]\n",
    "A"
   ]
  },
  {
   "cell_type": "markdown",
   "metadata": {},
   "source": [
    "To get the number of rows of $A$, type"
   ]
  },
  {
   "cell_type": "code",
   "execution_count": 6,
   "metadata": {},
   "outputs": [
    {
     "data": {
      "text/plain": [
       "3"
      ]
     },
     "execution_count": 6,
     "metadata": {},
     "output_type": "execute_result"
    }
   ],
   "source": [
    "A.shape[0]"
   ]
  },
  {
   "cell_type": "markdown",
   "metadata": {},
   "source": [
    "Analogously, we can select columns as follows:"
   ]
  },
  {
   "cell_type": "code",
   "execution_count": 7,
   "metadata": {},
   "outputs": [
    {
     "data": {
      "text/plain": [
       "matrix([[1],\n",
       "        [2],\n",
       "        [5]])"
      ]
     },
     "execution_count": 7,
     "metadata": {},
     "output_type": "execute_result"
    }
   ],
   "source": [
    "A[:,0]"
   ]
  },
  {
   "cell_type": "markdown",
   "metadata": {},
   "source": [
    "To get the number of columns of $A$, type"
   ]
  },
  {
   "cell_type": "code",
   "execution_count": 8,
   "metadata": {},
   "outputs": [
    {
     "data": {
      "text/plain": [
       "2"
      ]
     },
     "execution_count": 8,
     "metadata": {},
     "output_type": "execute_result"
    }
   ],
   "source": [
    "A.shape[1]"
   ]
  },
  {
   "cell_type": "markdown",
   "metadata": {},
   "source": [
    "Finally, to obtain an entry $A_{i,j}$, type (exemplified for $i=0$, $j=1$):"
   ]
  },
  {
   "cell_type": "code",
   "execution_count": 9,
   "metadata": {},
   "outputs": [
    {
     "data": {
      "text/plain": [
       "2"
      ]
     },
     "execution_count": 9,
     "metadata": {},
     "output_type": "execute_result"
    }
   ],
   "source": [
    "a_01 = A[0,1]\n",
    "a_01"
   ]
  },
  {
   "cell_type": "markdown",
   "metadata": {},
   "source": [
    "Furthermore, you may need to append a standard unit vector $v$ to a matrix $A$. This can be done as follows, where we exemplify the procedure with the first standard unit vector $e_1$:"
   ]
  },
  {
   "cell_type": "code",
   "execution_count": 10,
   "metadata": {},
   "outputs": [
    {
     "data": {
      "text/plain": [
       "matrix([[1., 1., 2.],\n",
       "        [0., 2., 2.],\n",
       "        [0., 5., 6.]])"
      ]
     },
     "execution_count": 10,
     "metadata": {},
     "output_type": "execute_result"
    }
   ],
   "source": [
    "v = np.transpose(np.matrix(np.zeros(A.shape[0])))\n",
    "v[0,] = 1 # first standard unit vector\n",
    "\n",
    "A = np.concatenate((v,A),axis=1)\n",
    "A"
   ]
  },
  {
   "cell_type": "markdown",
   "metadata": {},
   "source": [
    "Finally, to delete a column $i$, let's say for $i=0$ (the first column), type:"
   ]
  },
  {
   "cell_type": "code",
   "execution_count": 11,
   "metadata": {},
   "outputs": [
    {
     "data": {
      "text/plain": [
       "matrix([[1., 2.],\n",
       "        [2., 2.],\n",
       "        [5., 6.]])"
      ]
     },
     "execution_count": 11,
     "metadata": {},
     "output_type": "execute_result"
    }
   ],
   "source": [
    "A = np.delete(A,[0],1)\n",
    "A"
   ]
  },
  {
   "cell_type": "markdown",
   "metadata": {},
   "source": [
    "## A pivoting function\n",
    "We now want to implement a function `pivot(T, i, j)` which takes in a short tableau $T$, and replaces the basis variable corresponding to row $i$ of the tableau by the variable corresponding to column $j$ of the tableau. By convention, the tableau $T$ should include the objective function row as the first row (the row with index $0$), and the right hand sides as the last column.\n",
    "\n",
    "To avoid accidental selection of a pivot from the objective function row or the column of right-hand sides, your function should check that the input indices $i$ and $j$ are indeed pointing at a potential pivot. If not, the function should print a message saying so, and return the input tableau. Similarly, if the indicated pivot element is zero (in which case the pivoting step cannot be performed), the function should print a message saying so, and return the input tableau.\n",
    "If a non-zero pivot is given, the pivoting step should be carried out, and the new tableau should be returned. Additionally, the function should print a message indicating whether or not the pivot was legal for phase II of the simplex method.\n",
    "\n",
    "Complete the given framework below to obtain the pivoting function with the desired functionality."
   ]
  },
  {
   "cell_type": "code",
   "execution_count": 26,
   "metadata": {},
   "outputs": [],
   "source": [
    "def _is_legal_pivot(T, i, j):\n",
    "    \"\"\"Return True if pivot T[i,j] satisfies 1.66.\n",
    "    \n",
    "    Assumes (i,j) is a valid index pair for feasible tableau T.\n",
    "    \"\"\"\n",
    "    if T[0, j] >= 0:\n",
    "        return False\n",
    "    \n",
    "    if T[i, j] <= 0:\n",
    "        return False\n",
    "\n",
    "    r = T[i, -1] / T[i, j]\n",
    "\n",
    "    if any(T[l, -1] / T[l, j] < r for l in range(1, T.shape[0]) if T[l, j] > 0):\n",
    "        return False\n",
    "\n",
    "    return True\n",
    "\n",
    "\n",
    "A = np.matrix([\n",
    "    [-400,900,0],\n",
    "    [-1,4,40],\n",
    "    [2,1,42],\n",
    "    [3,3,63]\n",
    "])\n",
    "\n",
    "assert _is_legal_pivot(A, 1, 0) == False, \"\"\n",
    "assert _is_legal_pivot(A, 2, 0) == True, \"\"\n",
    "assert _is_legal_pivot(A, 3, 0) == True, \"\"\n",
    "assert _is_legal_pivot(A, 1, 1) == False, \"\"\n",
    "assert _is_legal_pivot(A, 2, 1) == False, \"\""
   ]
  },
  {
   "cell_type": "code",
   "execution_count": 32,
   "metadata": {},
   "outputs": [],
   "source": [
    "# This function is called _pivot_short_directly because it operates directly on the short tableau.\n",
    "# Another way to do the exchange step would be to convert it into long tableau and then reuse\n",
    "# the function from last week to do the exchange.\n",
    "def _pivot_short_directly(T, i, j):\n",
    "    \"\"\"Execute exchange step with pivot T[i,j] directly in short tableau.\n",
    "    \n",
    "    Return a new matrix corresponding to the tableau after the exchange step.\n",
    "    \n",
    "    No checking is done.\"\"\"\n",
    "    # directly get an np.matrix\n",
    "    # but why are we using np.matrix and not np.array anyway?\n",
    "    L = np.zeros_like(T)\n",
    "    \n",
    "    # Ordering of L construction such that we don't have to care about\n",
    "    # special cases (ex. ii != i), we just overwrite wrong values\n",
    "    \n",
    "    # General tableau elements\n",
    "    for ii in range(T.shape[0]):\n",
    "        for jj in range(T.shape[1]):\n",
    "            L[ii, jj] = T[ii, jj] - (T[ii, j] * T[i, jj]) / T[i, j]\n",
    "    \n",
    "    # Pivot column\n",
    "    for ii in range(T.shape[0]):\n",
    "        L[ii, j] = -T[ii, j] / T[i, j]\n",
    "    \n",
    "    # Pivot row\n",
    "    for jj in range(T.shape[1]):\n",
    "        L[i, jj] = T[i, jj] / T[i, j]\n",
    "    \n",
    "    # Pivot element\n",
    "    L[i, j] = 1 / T[i, j]\n",
    "    \n",
    "    return L\n",
    "\n",
    "\n",
    "A = np.matrix([[.25, .25, 10],[-.25, 1.75, 32],[-.75, .75, 6]])\n",
    "\n",
    "assert np.allclose(_pivot_short_directly(A, 2, 1), np.matrix([[.5, -1/3, 8],[1.5, -7/3, 18],[-1, 4/3, 8]])), \"Example 1.58\""
   ]
  },
  {
   "cell_type": "code",
   "execution_count": 41,
   "metadata": {},
   "outputs": [],
   "source": [
    "import warnings\n",
    "\n",
    "\n",
    "def pivot(T,i,j):\n",
    "    \"\"\"Perform an exchange step on the short tableau T, using the element at (i,j)\n",
    "    as a pivot.\n",
    "    \n",
    "    It issues a warning if the pivot is not legal.\n",
    "    \"\"\"\n",
    "    rows = T.shape[0]\n",
    "    columns = T.shape[1]\n",
    "\n",
    "    # Check if the indices are not pointing at a potential pivot\n",
    "    assert i >= 1 and i < rows, \"Invalid pivot row.\"\n",
    "    assert j >= 0 and j < columns - 1, \"Invalid pivot column.\"\n",
    "    \n",
    "    # Check if tableau is feasible\n",
    "    # This is an assertion and not a warning since (from my understanding) it doesn't make\n",
    "    # sense to talk about legal pivots in an infeasible tableau.\n",
    "    # Definition 1.66 requires a feasible tableau.\n",
    "    # Indeed, the quotient rule doesn't make sense if our point already violates some constraint,\n",
    "    # we can go \"along an edge\"* forever and never hit that constraint.\n",
    "    # *we aren't even going along an edge since we're outside of the polygon.\n",
    "    assert all(T[i, -1] >= 0 for i in range(1, T.shape[0])), \"Given tableau is infeasible\"\n",
    "\n",
    "    # Check if the indicated pivot is zero\n",
    "    assert T[i, j] != 0, \"Pivot has to be nonzero.\"\n",
    "\n",
    "    # Check if indicated pivot is legal for phase II of Simplex Method\n",
    "    if not _is_legal_pivot(T, i, j):\n",
    "        warnings.warn(f\"({i}, {j}) is not a legal pivot for Simplex phase II\")\n",
    "\n",
    "    return _pivot_short_directly(T, i, j)"
   ]
  },
  {
   "cell_type": "markdown",
   "metadata": {},
   "source": [
    "## Testing your implementation\n",
    "To check whether your implementation works, use your function to reproduce the following pivot steps from the lecture notes:\n",
    "\n",
    "![](04_pivoting_fig2.png)"
   ]
  },
  {
   "cell_type": "markdown",
   "metadata": {},
   "source": [
    "This can be done, for example, by running the code below:"
   ]
  },
  {
   "cell_type": "code",
   "execution_count": 43,
   "metadata": {},
   "outputs": [
    {
     "name": "stdout",
     "output_type": "stream",
     "text": [
      "Vertex b\n",
      "[[ 2.00e+02 -7.00e+02  8.40e+03]\n",
      " [-5.00e-01  3.50e+00  1.90e+01]\n",
      " [ 5.00e-01  5.00e-01  2.10e+01]\n",
      " [-7.50e-01  2.25e+00  4.50e+00]]\n",
      "Vertex c\n",
      "[[-3.33333333e+01  3.11111111e+02  9.80000000e+03]\n",
      " [ 6.66666667e-01 -1.55555556e+00  1.20000000e+01]\n",
      " [ 6.66666667e-01 -2.22222222e-01  2.00000000e+01]\n",
      " [-3.33333333e-01  4.44444444e-01  2.00000000e+00]]\n",
      "Vertex d\n",
      "[[ 5.00000000e+01  2.33333333e+02  1.04000000e+04]\n",
      " [ 1.50000000e+00 -2.33333333e+00  1.80000000e+01]\n",
      " [-1.00000000e+00  1.33333333e+00  8.00000000e+00]\n",
      " [ 5.00000000e-01 -3.33333333e-01  8.00000000e+00]]\n"
     ]
    }
   ],
   "source": [
    "T = np.matrix([\n",
    "    [-400,-900,0],\n",
    "    [1,4,40],\n",
    "    [2,1,42],\n",
    "    [1.5,3,36]\n",
    "])\n",
    "\n",
    "T = pivot(T,2,0)\n",
    "print(\"Vertex b\")\n",
    "print(T)\n",
    "\n",
    "T = pivot(T,3,1)\n",
    "print(\"Vertex c\")\n",
    "print(T)\n",
    "\n",
    "T = pivot(T,1,0)\n",
    "print(\"Vertex d\")\n",
    "print(T)"
   ]
  },
  {
   "cell_type": "markdown",
   "metadata": {},
   "source": [
    "Next, let us check whether your function gives a warning if the indicated pivot is not legal. To this end let us take another look at the graphical represenation of the original LP:\n",
    "\n",
    "![](04_pivoting_fig1.png)\n",
    "\n",
    "We see that the first and the second constraint are never both tight for any point in the polytope. In other words, there is no solution with $y_1=y_2=0$.\n",
    "\n",
    "Let us check whether your function detects that the pivoting step taking us to the solution with $y_1=y_2=0$ is illegal! To this end, note that we get to this solution from the tableau for \"verted $d$\" above if we pivot such that $y_2$ exits the basis and $y_3$ enters the basis. The following call executes precisely the pivoting operation corresponding to this basis change (assuming that you didn't change $T$ after the above pivoting steps)."
   ]
  },
  {
   "cell_type": "code",
   "execution_count": 35,
   "metadata": {},
   "outputs": [
    {
     "name": "stdout",
     "output_type": "stream",
     "text": [
      "[[ 2.00000000e+02  1.00000000e+02  1.22000000e+04]\n",
      " [-6.42857143e-01 -4.28571429e-01 -7.71428571e+00]\n",
      " [-1.42857143e-01  5.71428571e-01  1.82857143e+01]\n",
      " [ 2.85714286e-01 -1.42857143e-01  5.42857143e+00]]\n"
     ]
    },
    {
     "name": "stderr",
     "output_type": "stream",
     "text": [
      "/home/david/anaconda3/envs/mathopt/lib/python3.7/site-packages/ipykernel_launcher.py:18: UserWarning: (1, 1) is not a legal pivot for Simplex phase II\n"
     ]
    }
   ],
   "source": [
    "T = pivot(T,1,1)\n",
    "print(T)"
   ]
  },
  {
   "cell_type": "markdown",
   "metadata": {},
   "source": [
    "Now, let us see whether your function correctly gives an error if a pivot operation cannot be performed. To this end, consider the following short tableau (which is unrelated to the LP above) taken from the script, and try to replace $y_1$ by $y_2$.\n",
    "\n",
    "$$\\begin{array}{c|rr|c}\n",
    " &y_3&y_2&1\\\\\n",
    "\\hline\n",
    "z&1&1&3\\\\\n",
    "\\hline\n",
    "y_1&1&0&3\\\\\n",
    "x_2&2&-1&3\\\\\n",
    "x_1&1&-1&1\n",
    "\\end{array}$$"
   ]
  },
  {
   "cell_type": "code",
   "execution_count": 36,
   "metadata": {},
   "outputs": [
    {
     "ename": "AssertionError",
     "evalue": "Pivot has to be nonzero.",
     "output_type": "error",
     "traceback": [
      "\u001b[0;31m---------------------------------------------------------------------------\u001b[0m",
      "\u001b[0;31mAssertionError\u001b[0m                            Traceback (most recent call last)",
      "\u001b[0;32m<ipython-input-36-9df4ff060547>\u001b[0m in \u001b[0;36m<module>\u001b[0;34m\u001b[0m\n\u001b[1;32m      6\u001b[0m     \u001b[0;34m[\u001b[0m\u001b[0;36m1\u001b[0m\u001b[0;34m,\u001b[0m\u001b[0;34m-\u001b[0m\u001b[0;36m1\u001b[0m\u001b[0;34m,\u001b[0m\u001b[0;36m1\u001b[0m\u001b[0;34m]\u001b[0m\u001b[0;34m\u001b[0m\u001b[0;34m\u001b[0m\u001b[0m\n\u001b[1;32m      7\u001b[0m ])\n\u001b[0;32m----> 8\u001b[0;31m \u001b[0mT\u001b[0m \u001b[0;34m=\u001b[0m \u001b[0mpivot\u001b[0m\u001b[0;34m(\u001b[0m\u001b[0mT\u001b[0m\u001b[0;34m,\u001b[0m\u001b[0;36m1\u001b[0m\u001b[0;34m,\u001b[0m\u001b[0;36m1\u001b[0m\u001b[0;34m)\u001b[0m\u001b[0;34m\u001b[0m\u001b[0;34m\u001b[0m\u001b[0m\n\u001b[0m",
      "\u001b[0;32m<ipython-input-33-992cc780f7a1>\u001b[0m in \u001b[0;36mpivot\u001b[0;34m(T, i, j)\u001b[0m\n\u001b[1;32m     12\u001b[0m \u001b[0;34m\u001b[0m\u001b[0m\n\u001b[1;32m     13\u001b[0m     \u001b[0;31m# Check if the indicated pivot is zero\u001b[0m\u001b[0;34m\u001b[0m\u001b[0;34m\u001b[0m\u001b[0;34m\u001b[0m\u001b[0m\n\u001b[0;32m---> 14\u001b[0;31m     \u001b[0;32massert\u001b[0m \u001b[0mT\u001b[0m\u001b[0;34m[\u001b[0m\u001b[0mi\u001b[0m\u001b[0;34m,\u001b[0m \u001b[0mj\u001b[0m\u001b[0;34m]\u001b[0m \u001b[0;34m!=\u001b[0m \u001b[0;36m0\u001b[0m\u001b[0;34m,\u001b[0m \u001b[0;34m\"Pivot has to be nonzero.\"\u001b[0m\u001b[0;34m\u001b[0m\u001b[0;34m\u001b[0m\u001b[0m\n\u001b[0m\u001b[1;32m     15\u001b[0m \u001b[0;34m\u001b[0m\u001b[0m\n\u001b[1;32m     16\u001b[0m     \u001b[0;31m# Check if indicated pivot is legal for phase II of Simplex Method\u001b[0m\u001b[0;34m\u001b[0m\u001b[0;34m\u001b[0m\u001b[0;34m\u001b[0m\u001b[0m\n",
      "\u001b[0;31mAssertionError\u001b[0m: Pivot has to be nonzero."
     ]
    }
   ],
   "source": [
    "# Apply your function to the tableau above.\n",
    "T = np.matrix([\n",
    "    [1,1,3],\n",
    "    [1,0,3],\n",
    "    [2,-1,3],\n",
    "    [1,-1,1]\n",
    "])\n",
    "T = pivot(T,1,1)"
   ]
  },
  {
   "cell_type": "markdown",
   "metadata": {},
   "source": [
    "Finally, you can apply your pivoting functions to other examples from class. By doing tests as the above ones, try to see whether the different cases are recognised correctly by your function!"
   ]
  }
 ],
 "metadata": {
  "kernelspec": {
   "display_name": "Python 3",
   "language": "python",
   "name": "python3"
  },
  "language_info": {
   "codemirror_mode": {
    "name": "ipython",
    "version": 3
   },
   "file_extension": ".py",
   "mimetype": "text/x-python",
   "name": "python",
   "nbconvert_exporter": "python",
   "pygments_lexer": "ipython3",
   "version": "3.7.3"
  }
 },
 "nbformat": 4,
 "nbformat_minor": 4
}
