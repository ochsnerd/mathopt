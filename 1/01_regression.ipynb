{
 "cells": [
  {
   "cell_type": "markdown",
   "metadata": {},
   "source": [
    "## Exercise: Linear regression minimizing $\\ell_1$-error\n",
    "\n",
    "<font color='blue'><b>Goal:</b></font>\n",
    "Solve linear regression with an $\\ell_1$-error function using a linear program.\n",
    "\n",
    "<font color='blue'><b>Additional resources:</b></font> \n",
    "For an introduction on regression, see https://stat.ethz.ch/education/semesters/ss2016/regression/Regression.pdf.\n",
    "\n",
    "---\n",
    "\n",
    "A researcher would like to know if a child's height $H$ (in cm) can be predicted by their age $A$ (in years).\n",
    "In other words, she would like to know if there is any relationship between $A$ and $H$.\n",
    "She begins by observing the age and height of fifteen children. \n",
    "Her data is stored below (the first child was age 1 with height 73.2, the second child was age 1 with height 73.3, etc.)."
   ]
  },
  {
   "cell_type": "code",
   "execution_count": 1,
   "metadata": {},
   "outputs": [],
   "source": [
    "# Observed ages in years\n",
    "obs_age = [1,1,2,2,3,4,4,5,6,7,7,8,9,9,10]\n",
    "\n",
    "# Observed heights in cm\n",
    "obs_ht = [73.2,73.3,75.1,77.4,80.1,85.7,84.0,89.1,100.2,105.3,112.2,115.0,125.1,135.2,150.7]"
   ]
  },
  {
   "cell_type": "markdown",
   "metadata": {},
   "source": [
    "We can visualize this data using the `matplotlib` library in Python.\n",
    "The `plt.scatter` plots the individual data points. \n",
    "\n",
    "We can also draw different lines through the data to visualize a linear relationship. \n",
    "\n",
    "<font color='red'><b>Note:</b></font> There are many ways to plot a line in `matplotlib`. \n",
    "One method involves using the `numpy` Python package.\n",
    "\n",
    "Run the following code to plot the data and to draw the lines $H = 7A+65$ and $H = 5.75A+70$."
   ]
  },
  {
   "cell_type": "code",
   "execution_count": 2,
   "metadata": {},
   "outputs": [
    {
     "data": {
      "image/png": "[encoded data removed]",
      "text/plain": [
       "<Figure size 432x288 with 1 Axes>"
      ]
     },
     "metadata": {
      "needs_background": "light"
     },
     "output_type": "display_data"
    }
   ],
   "source": [
    "# Import Python's plotting tools (matplotlib) and math tools (numpy)\n",
    "import matplotlib.pyplot as plt\n",
    "import numpy as np\n",
    "%matplotlib inline\n",
    "\n",
    "# Plot the points\n",
    "plt.scatter(obs_age,obs_ht)\n",
    "\n",
    "# Draw the line H = 7A+65\n",
    "A = np.linspace(1,10,100)\n",
    "H = 7*A+65\n",
    "plt.plot(A,H, color = 'red')\n",
    "\n",
    "# Draw the line H = 5.75A+70\n",
    "H = 5.75*A+70\n",
    "plt.plot(A,H, color = 'green')\n",
    "\n",
    "\n",
    "plt.xlabel(\"Age (in years)\")\n",
    "plt.ylabel(\"Height (in cm)\")\n",
    "plt.show()"
   ]
  },
  {
   "cell_type": "markdown",
   "metadata": {},
   "source": [
    "Both lines $H = 7A + 65$ and $H = 5.75A + 70$ seem to capture some of the correlation between `obs_ages` and `obs_ht`.\n",
    "However, which line is the better choice?\n",
    "Regression measures this with a loss function. \n",
    "\n",
    "Given values $\\alpha, \\beta \\in \\mathbb{R}$, we say that the $\\ell_1$-error of the line $H = \\beta A + \\alpha$ is equal to \n",
    "$$\n",
    "\\displaystyle \\sum_{i=1}^{15} |\\text{obs_ht}_{~i} - (\\beta \\times \\text{obs_age}_{~i} + \\alpha)|.\n",
    "$$\n",
    "\n",
    "The line $H = 7A + 65$ has an $\\ell_1$ error of $90.19$, and the line $H = 5.75A + 70$ has an $\\ell_1$ error of $100.80$.\n",
    "\n",
    "<font color=\"blue\"><b>Your first task:</b></font> \n",
    "Write an LP that finds parameters $\\alpha$ and $\\beta$ so that the line $H = \\beta A + \\alpha$ minimizes the $\\ell_1$-error.<br>\n",
    "Implement this LP and solve it. Also, plot the optimal line $H$ that you found together with the data."
   ]
  },
  {
   "cell_type": "code",
   "execution_count": 9,
   "metadata": {},
   "outputs": [
    {
     "name": "stdout",
     "output_type": "stream",
     "text": [
      "AgeRegression:\n",
      "MINIMIZE\n",
      "1*z_0 + 1*z_1 + 1*z_10 + 1*z_11 + 1*z_12 + 1*z_13 + 1*z_14 + 1*z_2 + 1*z_3 + 1*z_4 + 1*z_5 + 1*z_6 + 1*z_7 + 1*z_8 + 1*z_9 + 0\n",
      "SUBJECT TO\n",
      "_C1: - alpha_negative + alpha_positive + beta_negative - beta_positive - z_0\n",
      " <= -73.2\n",
      "\n",
      "_C2: alpha_negative - alpha_positive - beta_negative + beta_positive - z_0\n",
      " <= 73.2\n",
      "\n",
      "_C3: - alpha_negative + alpha_positive + beta_negative - beta_positive - z_1\n",
      " <= -73.3\n",
      "\n",
      "_C4: alpha_negative - alpha_positive - beta_negative + beta_positive - z_1\n",
      " <= 73.3\n",
      "\n",
      "_C5: - alpha_negative + alpha_positive + 2 beta_negative - 2 beta_positive\n",
      " - z_2 <= -75.1\n",
      "\n",
      "_C6: alpha_negative - alpha_positive - 2 beta_negative + 2 beta_positive - z_2\n",
      " <= 75.1\n",
      "\n",
      "_C7: - alpha_negative + alpha_positive + 2 beta_negative - 2 beta_positive\n",
      " - z_3 <= -77.4\n",
      "\n",
      "_C8: alpha_negative - alpha_positive - 2 beta_negative + 2 beta_positive - z_3\n",
      " <= 77.4\n",
      "\n",
      "_C9: - alpha_negative + alpha_positive + 3 beta_negative - 3 beta_positive\n",
      " - z_4 <= -80.1\n",
      "\n",
      "_C10: alpha_negative - alpha_positive - 3 beta_negative + 3 beta_positive\n",
      " - z_4 <= 80.1\n",
      "\n",
      "_C11: - alpha_negative + alpha_positive + 4 beta_negative - 4 beta_positive\n",
      " - z_5 <= -85.7\n",
      "\n",
      "_C12: alpha_negative - alpha_positive - 4 beta_negative + 4 beta_positive\n",
      " - z_5 <= 85.7\n",
      "\n",
      "_C13: - alpha_negative + alpha_positive + 4 beta_negative - 4 beta_positive\n",
      " - z_6 <= -84\n",
      "\n",
      "_C14: alpha_negative - alpha_positive - 4 beta_negative + 4 beta_positive\n",
      " - z_6 <= 84\n",
      "\n",
      "_C15: - alpha_negative + alpha_positive + 5 beta_negative - 5 beta_positive\n",
      " - z_7 <= -89.1\n",
      "\n",
      "_C16: alpha_negative - alpha_positive - 5 beta_negative + 5 beta_positive\n",
      " - z_7 <= 89.1\n",
      "\n",
      "_C17: - alpha_negative + alpha_positive + 6 beta_negative - 6 beta_positive\n",
      " - z_8 <= -100.2\n",
      "\n",
      "_C18: alpha_negative - alpha_positive - 6 beta_negative + 6 beta_positive\n",
      " - z_8 <= 100.2\n",
      "\n",
      "_C19: - alpha_negative + alpha_positive + 7 beta_negative - 7 beta_positive\n",
      " - z_9 <= -105.3\n",
      "\n",
      "_C20: alpha_negative - alpha_positive - 7 beta_negative + 7 beta_positive\n",
      " - z_9 <= 105.3\n",
      "\n",
      "_C21: - alpha_negative + alpha_positive + 7 beta_negative - 7 beta_positive\n",
      " - z_10 <= -112.2\n",
      "\n",
      "_C22: alpha_negative - alpha_positive - 7 beta_negative + 7 beta_positive\n",
      " - z_10 <= 112.2\n",
      "\n",
      "_C23: - alpha_negative + alpha_positive + 8 beta_negative - 8 beta_positive\n",
      " - z_11 <= -115\n",
      "\n",
      "_C24: alpha_negative - alpha_positive - 8 beta_negative + 8 beta_positive\n",
      " - z_11 <= 115\n",
      "\n",
      "_C25: - alpha_negative + alpha_positive + 9 beta_negative - 9 beta_positive\n",
      " - z_12 <= -125.1\n",
      "\n",
      "_C26: alpha_negative - alpha_positive - 9 beta_negative + 9 beta_positive\n",
      " - z_12 <= 125.1\n",
      "\n",
      "_C27: - alpha_negative + alpha_positive + 9 beta_negative - 9 beta_positive\n",
      " - z_13 <= -135.2\n",
      "\n",
      "_C28: alpha_negative - alpha_positive - 9 beta_negative + 9 beta_positive\n",
      " - z_13 <= 135.2\n",
      "\n",
      "_C29: - alpha_negative + alpha_positive + 10 beta_negative - 10 beta_positive\n",
      " - z_14 <= -150.7\n",
      "\n",
      "_C30: alpha_negative - alpha_positive - 10 beta_negative + 10 beta_positive\n",
      " - z_14 <= 150.7\n",
      "\n",
      "VARIABLES\n",
      "alpha_negative Continuous\n",
      "alpha_positive Continuous\n",
      "beta_negative Continuous\n",
      "beta_positive Continuous\n",
      "z_0 free Continuous\n",
      "z_1 free Continuous\n",
      "z_10 free Continuous\n",
      "z_11 free Continuous\n",
      "z_12 free Continuous\n",
      "z_13 free Continuous\n",
      "z_14 free Continuous\n",
      "z_2 free Continuous\n",
      "z_3 free Continuous\n",
      "z_4 free Continuous\n",
      "z_5 free Continuous\n",
      "z_6 free Continuous\n",
      "z_7 free Continuous\n",
      "z_8 free Continuous\n",
      "z_9 free Continuous\n",
      "\n",
      "1\n",
      "beta = 7.14\n",
      "alpha = -60.81\n",
      "Cost = 73.41\n"
     ]
    }
   ],
   "source": [
    "# Solve the L-1 linear regression problem here...\n",
    "from pulp import LpProblem, LpMinimize, LpVariable\n",
    "\n",
    "lp = LpProblem(\"AgeRegression\", LpMinimize)\n",
    "\n",
    "x1p = LpVariable(\"beta_positive\", lowBound=0)\n",
    "x1n = LpVariable(\"beta_negative\", lowBound=0)\n",
    "\n",
    "x2p = LpVariable(\"alpha_positive\", lowBound=0)\n",
    "x2n = LpVariable(\"alpha_negative\", lowBound=0)\n",
    "\n",
    "z = [LpVariable(f\"z_{i}\") for i in range(len(obs_age))]\n",
    "\n",
    "lp += sum(z)\n",
    "\n",
    "for h_i, a_i, z_i in zip(obs_ht, obs_age, z):\n",
    "    lp += (h_i - (x1p - x1n) * a_i + x2p - x2n <= z_i)\n",
    "    lp += (-h_i + (x1p - x1n) * a_i - x2p + x2n <= z_i)\n",
    "    \n",
    "print(lp)\n",
    "    \n",
    "print(lp.solve())\n",
    "\n",
    "print(f\"beta = {x1p.value() - x1n.value():.2f}\")\n",
    "print(f\"alpha = {x2p.value() - x2n.value():.2f}\")\n",
    "print(f\"Cost = {lp.objective.value():.2f}\")"
   ]
  },
  {
   "cell_type": "markdown",
   "metadata": {},
   "source": [
    "Perhaps the relationship between age and height is not linear.\n",
    "In fact the data in the previous plot seems to suggest that the relationship is more quadratic. \n",
    "We can also use linear programming to solve this quadratic regression problem!\n",
    "\n",
    "Given values $\\alpha_0, \\alpha_1, \\alpha_2 \\in \\mathbb{R}$, we say that the $\\ell_1$-error of the quadratic function $H = \\alpha_2 A^2 + \\alpha_1 A + \\alpha_0$ is equal to \n",
    "$$\n",
    "\\displaystyle \\sum_{i=1}^{15} |\\text{obs_ht}_{~i} - (\\alpha_2 \\times \\text{obs_age}_{~i}^2 + \\alpha_1 \\times \\text{obs_age}_{~i} + \\alpha_0)|.\n",
    "$$\n",
    "\n",
    "<font color=\"blue\"><b>Your second task:</b></font> \n",
    "Write an LP that finds parameters $\\alpha_0$, $\\alpha_1$ and $\\alpha_2$ so that the quadratic function $H = \\alpha_2 A^2 + \\alpha_1 A + \\alpha_0$ minimizes the $\\ell_1$-error.<br>\n",
    "Implement this LP and solve it. Also, plot the optimal curve $H$ that you found together with the data."
   ]
  },
  {
   "cell_type": "code",
   "execution_count": 5,
   "metadata": {},
   "outputs": [
    {
     "name": "stdout",
     "output_type": "stream",
     "text": [
      "Object `value` not found.\n"
     ]
    }
   ],
   "source": [
    "# Solve the L-1 quadratic regression problem here...\n",
    "\n"
   ]
  },
  {
   "cell_type": "code",
   "execution_count": null,
   "metadata": {},
   "outputs": [],
   "source": []
  }
 ],
 "metadata": {
  "kernelspec": {
   "display_name": "Python 3",
   "language": "python",
   "name": "python3"
  },
  "language_info": {
   "codemirror_mode": {
    "name": "ipython",
    "version": 3
   },
   "file_extension": ".py",
   "mimetype": "text/x-python",
   "name": "python",
   "nbconvert_exporter": "python",
   "pygments_lexer": "ipython3",
   "version": "3.7.3"
  }
 },
 "nbformat": 4,
 "nbformat_minor": 4
}
