{
 "cells": [
  {
   "cell_type": "markdown",
   "metadata": {},
   "source": [
    "## Exercise: Linear regression minimizing $\\ell_1$-error\n",
    "\n",
    "<font color='blue'><b>Goal:</b></font>\n",
    "Solve linear regression with an $\\ell_1$-error function using a linear program.\n",
    "\n",
    "<font color='blue'><b>Additional resources:</b></font> \n",
    "For an introduction on regression, see https://stat.ethz.ch/education/semesters/ss2016/regression/Regression.pdf.\n",
    "\n",
    "---\n",
    "\n",
    "A researcher would like to know if a child's height $H$ (in cm) can be predicted by their age $A$ (in years).\n",
    "In other words, she would like to know if there is any relationship between $A$ and $H$.\n",
    "She begins by observing the age and height of fifteen children. \n",
    "Her data is stored below (the first child was age 1 with height 73.2, the second child was age 1 with height 73.3, etc.)."
   ]
  },
  {
   "cell_type": "code",
   "execution_count": 1,
   "metadata": {},
   "outputs": [],
   "source": [
    "# Observed ages in years\n",
    "obs_age = [1,1,2,2,3,4,4,5,6,7,7,8,9,9,10]\n",
    "\n",
    "# Observed heights in cm\n",
    "obs_ht = [73.2,73.3,75.1,77.4,80.1,85.7,84.0,89.1,100.2,105.3,112.2,115.0,125.1,135.2,150.7]"
   ]
  },
  {
   "cell_type": "markdown",
   "metadata": {},
   "source": [
    "We can visualize this data using the `matplotlib` library in Python.\n",
    "The `plt.scatter` plots the individual data points. \n",
    "\n",
    "We can also draw different lines through the data to visualize a linear relationship. \n",
    "\n",
    "<font color='red'><b>Note:</b></font> There are many ways to plot a line in `matplotlib`. \n",
    "One method involves using the `numpy` Python package.\n",
    "\n",
    "Run the following code to plot the data and to draw the lines $H = 7A+65$ and $H = 5.75A+70$."
   ]
  },
  {
   "cell_type": "code",
   "execution_count": null,
   "metadata": {},
   "outputs": [],
   "source": [
    "# Import Python's plotting tools (matplotlib) and math tools (numpy)\n",
    "import matplotlib.pyplot as plt\n",
    "import numpy as np\n",
    "%matplotlib inline\n",
    "\n",
    "# Plot the points\n",
    "plt.scatter(obs_age,obs_ht)\n",
    "\n",
    "# Draw the line H = 7A+65\n",
    "A = np.linspace(1,10,100)\n",
    "H = 7*A+65\n",
    "plt.plot(A,H, color = 'red')\n",
    "\n",
    "# Draw the line H = 5.75A+70\n",
    "H = 5.75*A+70\n",
    "plt.plot(A,H, color = 'green')\n",
    "\n",
    "\n",
    "plt.xlabel(\"Age (in years)\")\n",
    "plt.ylabel(\"Height (in cm)\")\n",
    "plt.show()"
   ]
  },
  {
   "cell_type": "markdown",
   "metadata": {},
   "source": [
    "Both lines $H = 7A + 65$ and $H = 5.75A + 70$ seem to capture some of the correlation between `obs_ages` and `obs_ht`.\n",
    "However, which line is the better choice?\n",
    "Regression measures this with a loss function. \n",
    "\n",
    "Given values $\\alpha, \\beta \\in \\mathbb{R}$, we say that the $\\ell_1$-error of the line $H = \\beta A + \\alpha$ is equal to \n",
    "$$\n",
    "\\displaystyle \\sum_{i=1}^{15} |\\text{obs_ht}_{~i} - (\\beta \\times \\text{obs_age}_{~i} + \\alpha)|.\n",
    "$$\n",
    "\n",
    "The line $H = 7A + 65$ has an $\\ell_1$ error of $90.19$, and the line $H = 5.75A + 70$ has an $\\ell_1$ error of $100.80$.\n",
    "\n",
    "<font color=\"blue\"><b>Your first task:</b></font> \n",
    "Write an LP that finds parameters $\\alpha$ and $\\beta$ so that the line $H = \\beta A + \\alpha$ minimizes the $\\ell_1$-error.<br>\n",
    "Implement this LP and solve it. Also, plot the optimal line $H$ that you found together with the data."
   ]
  },
  {
   "cell_type": "code",
   "execution_count": null,
   "metadata": {},
   "outputs": [],
   "source": [
    "# Solve the L-1 linear regression problem here...\n",
    "\n"
   ]
  },
  {
   "cell_type": "markdown",
   "metadata": {},
   "source": [
    "Perhaps the relationship between age and height is not linear.\n",
    "In fact the data in the previous plot seems to suggest that the relationship is more quadratic. \n",
    "We can also use linear programming to solve this quadratic regression problem!\n",
    "\n",
    "Given values $\\alpha_0, \\alpha_1, \\alpha_2 \\in \\mathbb{R}$, we say that the $\\ell_1$-error of the quadratic function $H = \\alpha_2 A^2 + \\alpha_1 A + \\alpha_0$ is equal to \n",
    "$$\n",
    "\\displaystyle \\sum_{i=1}^{15} |\\text{obs_ht}_{~i} - (\\alpha_2 \\times \\text{obs_age}_{~i}^2 + \\alpha_1 \\times \\text{obs_age}_{~i} + \\alpha_0)|.\n",
    "$$\n",
    "\n",
    "<font color=\"blue\"><b>Your second task:</b></font> \n",
    "Write an LP that finds parameters $\\alpha_0$, $\\alpha_1$ and $\\alpha_2$ so that the quadratic function $H = \\alpha_2 A^2 + \\alpha_1 A + \\alpha_0$ minimizes the $\\ell_1$-error.<br>\n",
    "Implement this LP and solve it. Also, plot the optimal curve $H$ that you found together with the data."
   ]
  },
  {
   "cell_type": "code",
   "execution_count": null,
   "metadata": {},
   "outputs": [],
   "source": [
    "# Solve the L-1 quadratic regression problem here...\n",
    "\n"
   ]
  }
 ],
 "metadata": {
  "kernelspec": {
   "display_name": "Python 3",
   "language": "python",
   "name": "python3"
  },
  "language_info": {
   "codemirror_mode": {
    "name": "ipython",
    "version": 3
   },
   "file_extension": ".py",
   "mimetype": "text/x-python",
   "name": "python",
   "nbconvert_exporter": "python",
   "pygments_lexer": "ipython3",
   "version": "3.7.3"
  }
 },
 "nbformat": 4,
 "nbformat_minor": 4
}
