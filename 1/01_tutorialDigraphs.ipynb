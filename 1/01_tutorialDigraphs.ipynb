{
 "cells": [
  {
   "cell_type": "markdown",
   "metadata": {},
   "source": [
    "# networkx Part 2 : Directed graphs\n",
    "\n",
    "<font color='blue'><b>Goals of this notebook:</b></font>\n",
    "Learn how to create directed graphs.\n",
    "\n",
    "<font color='blue'><b>Prerequisites:</b></font>\n",
    "Know how to build and draw graphs (see part 1 of this tutorial).\n",
    "\n",
    "<font color='blue'><b>Python packages required:</b></font>\n",
    "`networkx`\n",
    "\n",
    "<font color='blue'><b>Additional resources:</b></font> \n",
    "For more on networkx, see https://networkx.github.io/documentation/stable/.\n",
    "\n",
    "\n",
    "Many graphs have directions on the edges (edges with directions are called arcs).\n",
    "We can create these 'digraphs' using `networkx` in the same way as undirected graphs. \n",
    "\n",
    "<b>Step 1</b> Import `networkx`.\n",
    "\n",
    "<b>Step 2</b> Create an empty digraph.\n",
    "\n",
    "<b>Step 3</b> Add nodes and arcs. \n",
    "\n",
    "Let's illustrate these steps using the following digraph:\n",
    "\n",
    "$$\n",
    "\\begin{array}{rcl}\n",
    "\\text{Nodes} &=& \\{\\text{A}~,\\text{L},~\\text{P},~\\text{H},~\\text{B},~\\text{E},~\\text{T}\\}\\\\\n",
    "\\text{Arcs} &=&\\{(u,v) : \\text{ if } u \\text{ comes directly before } v \\text{ in the word ALPHABET}\\}.\n",
    "\\end{array}\n",
    "$$"
   ]
  },
  {
   "cell_type": "markdown",
   "metadata": {},
   "source": [
    "<b>Steps 1 and 2</b> Import `networkx` and create an empty digraph.\n",
    "\n",
    "These steps are almost identical to the steps for an undirected graph. \n",
    "The only difference is that we create an empty digraph using the command \n",
    "\n",
    "`G = nx.DiGraph()`.\n",
    "\n",
    "Run the following code to import `networkx` and create an empty digraph."
   ]
  },
  {
   "cell_type": "code",
   "execution_count": null,
   "metadata": {},
   "outputs": [],
   "source": [
    "# Import networkx and run the magic command for later inline drawings\n",
    "import networkx as nx\n",
    "%matplotlib inline\n",
    "\n",
    "# Create an empty digraph\n",
    "G = nx.DiGraph()"
   ]
  },
  {
   "cell_type": "markdown",
   "metadata": {},
   "source": [
    "<b>Step 3</b> Add nodes and arcs\n",
    "\n",
    "These commands are exactly the same as they are for undirected graphs!\n",
    "However, the order of the nodes is important when we add an arc. \n",
    "The first node becomes the tail of the arc and the second node becomes the head of the arc. \n",
    "For example, the command\n",
    "\n",
    "`G.add_edge(\"A\", \"L\")`\n",
    "\n",
    "will create an arc starting at `A` and pointing to `L`.\n",
    "\n",
    "<font color='red'><b>Note:</b></font>\n",
    "If a node is labeled with a letter or a word, then we must add it using quotation marks. For example, the command `G.add_node(\"A\")` adds node A.\n",
    "\n",
    "<font color='red'><b>Note:</b></font>\n",
    "If we try to add two nodes with the same label, then Python will only keep one copy of the node.\n",
    "\n",
    "Run the following code to add the nodes and arcs of `G`."
   ]
  },
  {
   "cell_type": "code",
   "execution_count": null,
   "metadata": {},
   "outputs": [],
   "source": [
    "# Create the nodes and arcs \n",
    "letters = [\"A\",\"L\",\"P\",\"H\",\"A\",\"B\",\"E\",\"T\"]\n",
    "\n",
    "G.add_nodes_from(letters)\n",
    "\n",
    "for i in range(0, 7):\n",
    "    G.add_edge(letters[i], letters[i+1])\n",
    "    \n",
    "# Print the nodes and arcs of G\n",
    "\n",
    "print(f'The nodes of G are {G.nodes}.')\n",
    "print(f'The arcs of G are {G.edges}.')"
   ]
  },
  {
   "cell_type": "markdown",
   "metadata": {},
   "source": [
    "We can draw `G` using the same command as before:\n",
    "\n",
    "`nx.draw(G, with_labels = True, pos = node_pos, node_color = 'lightblue', arrowsize=20)` \n",
    "\n",
    "Here we see a new optional input `arrowsize=20` to the `nx.draw()` command.\n",
    "The arcs of `G` are denoted with arrows, and this input lets us choose their size. \n",
    "\n",
    "Run the following code to draw `G`."
   ]
  },
  {
   "cell_type": "code",
   "execution_count": null,
   "metadata": {},
   "outputs": [],
   "source": [
    "# Fix a position of the nodes\n",
    "node_pos = nx.circular_layout(G)\n",
    "\n",
    "# Draw G\n",
    "nx.draw(G, with_labels = True, pos = node_pos, \n",
    "        node_color = 'lightblue', arrowsize=20)\n",
    "\n",
    "# Note: There might be a deprecation warning appearing; it comes from code in the networkx package, so we cannot do much about it."
   ]
  },
  {
   "cell_type": "markdown",
   "metadata": {},
   "source": [
    "Digraphs have more properties than undirected graphs.\n",
    "For example, a node `v` in a directed graph has an in degree and an out degree. \n",
    "These are accessed using the commands \n",
    "\n",
    "`H.in_degree(v)` and `H.out_degree(v)`.\n",
    "\n",
    "We can view the nodes that `v` points to using \n",
    "\n",
    "`H.successors(v)`\n",
    "\n",
    "and the nodes that point to `v` using \n",
    "\n",
    "`H.predecessors(v)`\n",
    "\n",
    "<font color='red'><b>Note:</b></font> The commands `H.successors(v)` and `H.predecessors(v)` return dictionaries. We can turn these into lists using `list(H.successors(v))`.\n",
    "\n",
    "Run the following code to check the in and out degree of `A` and print its successors/predecessors. "
   ]
  },
  {
   "cell_type": "code",
   "execution_count": null,
   "metadata": {},
   "outputs": [],
   "source": [
    "# Print the in degree and predecessors of A.\n",
    "print(f'The in degree of node A is {G.in_degree(\"A\")}.')\n",
    "print(f'The predecessors of node A are {list(G.predecessors(\"A\"))}.')\n",
    "\n",
    "# Print the out degree and successors of A.\n",
    "print(f'The out degree of node A is {G.out_degree(\"A\")}.'.format())\n",
    "print(f'The successors of node A are {list(G.successors(\"A\"))}.')"
   ]
  },
  {
   "cell_type": "markdown",
   "metadata": {},
   "source": [
    "Another useful thing is to turn a digraph into an undirected graph. \n",
    "We can do this using the command \n",
    "\n",
    "`G_undirected = nx.Graph(G)`. \n",
    "\n",
    "Run the following commands to turn `G` into an undirected graph."
   ]
  },
  {
   "cell_type": "code",
   "execution_count": null,
   "metadata": {},
   "outputs": [],
   "source": [
    "# Turn G into an undirected graph\n",
    "G_undirected = nx.Graph(G)\n",
    "\n",
    "# Draw G_undirected\n",
    "nx.draw(G_undirected, with_labels = True, pos = node_pos, \n",
    "            node_color = 'lightblue')"
   ]
  },
  {
   "cell_type": "markdown",
   "metadata": {},
   "source": [
    "Now you know the basics of digraphs! \n",
    "Let's practice these with a few more examples."
   ]
  },
  {
   "cell_type": "markdown",
   "metadata": {},
   "source": [
    "#### Example: Shortest paths in a graph\n",
    "\n",
    "For this example, we will use the following digraph:\n",
    "\n",
    "$$\n",
    "\\begin{array}{rcl}\n",
    "\\text{Nodes} &=& \\{1, \\dotsc, 20\\}\\\\\n",
    "\\text{Arcs} &=& \\left\\{(u,v)~ | ~ u < v \\text{ and at least one of the following holds:}~~\n",
    "\\begin{array}{l}\n",
    "v-u\\equiv 0 \\pmod{7} ~~\\text{or }\\\\\n",
    "v-u\\equiv 3 \\pmod{5}\n",
    "\\end{array}\\right\\}.\n",
    "\\end{array}\n",
    "$$\n",
    "\n",
    "Run the following code to build and draw `H`. We have already imported `networkx`, so we only need to run <b>Steps 2 - 3</b>.  "
   ]
  },
  {
   "cell_type": "code",
   "execution_count": null,
   "metadata": {},
   "outputs": [],
   "source": [
    "# Create an empty digraph\n",
    "H = nx.DiGraph()\n",
    "\n",
    "# Add the nodes and arcs\n",
    "for u in range(1, 21):\n",
    "    for v in range(u+1, 21):\n",
    "        if abs(v-u) % 7 == 0 or abs(v-u) % 5 == 3:\n",
    "            H.add_edge(u,v)\n",
    "\n",
    "# Draw H\n",
    "node_pos_H = nx.circular_layout(H)\n",
    "\n",
    "nx.draw(H, with_labels = True, pos = node_pos_H, \n",
    "            node_color = 'lightblue', arrowsize=10)"
   ]
  },
  {
   "cell_type": "markdown",
   "metadata": {},
   "source": [
    "In this example we want to check if there is a path from `1` to `20` in `H`.\n",
    "Recall that a path in a digraph can only visit a node or arc at most once, and a path must travel along an arc in the direction that it points.\n",
    "\n",
    "One way to check if a path exists is to use the BFS algorithm starting at `1`. \n",
    "\n",
    "Run the following commands to run BFS starting at `1`."
   ]
  },
  {
   "cell_type": "code",
   "execution_count": null,
   "metadata": {},
   "outputs": [],
   "source": [
    "# Run BFS starting at 1\n",
    "arcs_from_BFS = list(nx.bfs_edges(H,1))\n",
    "\n",
    "# Draw H with BFS arcs\n",
    "nx.draw(H, with_labels = True, pos = node_pos_H, \n",
    "        edgelist = arcs_from_BFS, node_color = 'lightblue', arrowsize=10)"
   ]
  },
  {
   "cell_type": "markdown",
   "metadata": {},
   "source": [
    "Note that there is an arc pointing to `20` in this sub-digraph.\n",
    "This means that there is a path from `1` to `20`. \n",
    "From the picture we can see that `1,4,7,20` is the a path from `1` to `20`.\n",
    "\n",
    "Another way of finding a path from `1` to `20` is to use the shortest path command in `networkx`.\n",
    "This command is \n",
    "\n",
    "`nodes_short_path = nx.shortest_path(H, source=1, target=20)` \n",
    "\n",
    "This command returns a list of the nodes taken on the shortest path and stores it in `nodes_short_path`.\n",
    "\n",
    "Run the following command to run the shortest path algorithm."
   ]
  },
  {
   "cell_type": "code",
   "execution_count": null,
   "metadata": {},
   "outputs": [],
   "source": [
    "# Run a shortest path algorithm from 1 to 20.\n",
    "nodes_short_path = nx.shortest_path(H, source = 1, target = 20)\n",
    "\n",
    "# Print the nodes on the shortest path\n",
    "print(f'A shortest path from 1 to 20 is {nodes_short_path}.')"
   ]
  },
  {
   "cell_type": "markdown",
   "metadata": {},
   "source": [
    "#### Example: Longest paths in a digraph\n",
    "\n",
    "Consider the digraph `H` from the previous example.\n",
    "Instead of finding a short path in `H`, what if we want to find the longest path between any two nodes in `H`?\n",
    "Note that there are no cycles in `H` because every arc `(u,v)` satisfies `u < v`.\n",
    "\n",
    "From the previous example, we know that there is a path of length four between `1` and `20`.\n",
    "However, it is not obvious from the previous drawing that there is a longer path in `H`.\n",
    "Let us redraw `H` to see if we can visualize a longer path.\n",
    "Intuitively, the longest path will start at a node with no incoming arcs and end at a node with no outgoing arcs. \n",
    "\n",
    "Run the following line of code to find these two sets of nodes."
   ]
  },
  {
   "cell_type": "code",
   "execution_count": null,
   "metadata": {},
   "outputs": [],
   "source": [
    "# Find the nodes without incoming arcs\n",
    "for u in H.nodes:\n",
    "    if H.in_degree(u) == 0:\n",
    "        print(f'{u} has no incoming arcs.')\n",
    "\n",
    "                \n",
    "# Find the nodes without outgoing arcs\n",
    "for u in H.nodes:        \n",
    "    if H.out_degree(u) == 0:\n",
    "        print(f'{u} has no outgoing arcs.')"
   ]
  },
  {
   "cell_type": "markdown",
   "metadata": {},
   "source": [
    "So there are three nodes without incoming arcs and three nodes without outgoing arcs.\n",
    "Let us redraw `H` so that the nodes form columns of three nodes each. \n",
    "This will require us to create new node positions to replace ` node_pos_H`. \n",
    "We will create these new positions manually by providing specific coordinates for where we want the nodes to be drawn. \n",
    "We will call these new positions `new_node_pos_H`.\n",
    "If we want to set the coordinates of node `u` to be `(x,y)`, then we use the command\n",
    "\n",
    "`new_pos_H[u] = (x,y)`\n",
    "\n",
    "<font color='red'><b>Note:</b></font> The positions in `networkx` are relative, so changing the coordinates might not necessarily yield the result that you want. However, it is not important to know how to draw graphs perfectly with `networkx`. It is usually enough to just use the preset layouts such as `circular_layout` in `networkx`.\n",
    "\n",
    "Run the following lines of code to create new node positions and redraw `H`."
   ]
  },
  {
   "cell_type": "code",
   "execution_count": null,
   "metadata": {},
   "outputs": [],
   "source": [
    "# Create new node positions\n",
    "new_pos_H = {}\n",
    "\n",
    "for u in H.nodes:\n",
    "    new_pos_H[u] = ( u/3 , u % 3)\n",
    "\n",
    "# Redraw H\n",
    "nx.draw(H, with_labels = True, pos = new_pos_H, \n",
    "        node_color = 'lightblue', arrowsize=10)"
   ]
  },
  {
   "cell_type": "markdown",
   "metadata": {},
   "source": [
    "These new node positions show us that there are paths with more than four nodes. \n",
    "The paths `1,4,7,10,13,16,19` and `2,5,8,11,14,17,20` each have seven nodes!\n",
    "\n",
    "We can find the longest path using the `networkx` commmand `nx.dag_longest_path(H)`. Here, `dag` refers to a directed acyclic graph.\n",
    "\n",
    "Run the following line of code to find a longest path in `H`."
   ]
  },
  {
   "cell_type": "code",
   "execution_count": null,
   "metadata": {},
   "outputs": [],
   "source": [
    "# Find a longest path in H\n",
    "\n",
    "long_path = nx.dag_longest_path(H)\n",
    "\n",
    "print(f'A longest path in H is {long_path}.')"
   ]
  },
  {
   "cell_type": "markdown",
   "metadata": {},
   "source": [
    "## Conclusions\n",
    "\n",
    "Digraphs in `networkx` are created in almost the same way as undirected graphs and drawn in exactly the same way. Part 3 of this tutorial introduces how to use attributes such as weight for edges/arcs and nodes."
   ]
  }
 ],
 "metadata": {
  "kernelspec": {
   "display_name": "Python 3",
   "language": "python",
   "name": "python3"
  },
  "language_info": {
   "codemirror_mode": {
    "name": "ipython",
    "version": 3
   },
   "file_extension": ".py",
   "mimetype": "text/x-python",
   "name": "python",
   "nbconvert_exporter": "python",
   "pygments_lexer": "ipython3",
   "version": "3.7.3"
  }
 },
 "nbformat": 4,
 "nbformat_minor": 4
}
