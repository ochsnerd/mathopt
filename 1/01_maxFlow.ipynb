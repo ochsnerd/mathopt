{
 "cells": [
  {
   "cell_type": "markdown",
   "metadata": {},
   "source": [
    "## Exercise: Maximizing flow in a network\n",
    "\n",
    "<font color='blue'><b>Goal:</b></font>\n",
    "Solve a max-flow problem.\n",
    "\n",
    "<font color='blue'><b>Additional resources:</b></font> \n",
    "More on flows will be covered later in the lecture, but this problem does not require any prior knowledge of flows.\n",
    "\n",
    "---\n",
    "\n",
    "A company wants to drive goods from Spain (S) to Austria (A).\n",
    "The company can drive through France (F), Germany (G), and Switzerland (C).\n",
    "\n",
    "Run the following lines of code to visualize this network. You do not need to know what this code means."
   ]
  },
  {
   "cell_type": "code",
   "execution_count": null,
   "metadata": {},
   "outputs": [],
   "source": [
    "# Import Python tools to draw a network\n",
    "import matplotlib.pyplot as plt\n",
    "import networkx as nx\n",
    "%matplotlib inline\n",
    "\n",
    "# Create the graph\n",
    "G=nx.DiGraph()\n",
    "G.add_nodes_from([\"F\",\"G\",\"C\",\"S\",\"A\"])\n",
    "vertex_pos = {\"F\": (0, .5),\"G\": (1, 1),\"C\": (1, 0),\"S\": (-1, 0.5),\"A\": (2, .5)}\n",
    "G.add_edges_from([(\"S\",\"F\"),(\"G\",\"A\"),(\"C\",\"A\"),(\"F\",\"G\"),(\"F\",\"C\"),(\"G\",\"C\")])\n",
    "\n",
    "# Display the capacities\n",
    "nx.draw(G,vertex_pos,with_labels=True,font_size=15, arrowsize = 20, node_color = 'y')\n",
    "\n",
    "# Add edge capacities\n",
    "capacities=dict({(\"S\",\"F\"): 5.25,(\"C\",\"A\"): 2.25,(\"G\",\"A\") :3.5,(\"F\",\"G\"): 3.75,(\"F\",\"C\"): 2.25,(\"G\",\"C\"): .5})\n",
    "nx.draw_networkx_edge_labels(G,pos=vertex_pos,label_pos=0.5, edge_labels=capacities,font_size=15)\n",
    "\n",
    "plt.show()"
   ]
  },
  {
   "cell_type": "markdown",
   "metadata": {},
   "source": [
    "Each road in the network has two components: a direction and a capacity. \n",
    "For example, the road from Spain to France has a capacity of 5.25 units.\n",
    "This means that the company cannot ship more than 5.25 units of goods between Spain and France.\n",
    "\n",
    "The company needs to find a feasible way of transporting goods from Spain to Austria. \n",
    "A <font color=\"blue\">feasible flow</b></font> assigns an amount of flow to each road in the network such that the following holds:\n",
    "\n",
    "<b>(Capacity constraints)</b> - No road is assigned more than its capacity, and\n",
    "\n",
    "<b>(Conservation constraints)</b> - There can be no leftover flow in France, Germany, or Switzerland. Therefore, the amount of flow into France (similarly, the amount of flow into Germany or Switzerland) must equal the amount of flow out of France (similarly, the amount of flow out of Germany or Switzerland).\n",
    "\n",
    "Here are three example of flows (both feasible and infeasible). \n",
    "For each pair of countries $x,y \\in \\{S,F,G,C,A\\}$ with a road between them, let $f_{x,y}$ be the amount of flow assigned to that road.\n",
    "\n",
    "Example 1. $f_{S,F} = 2, f_{F,G} = 1,f_{F,C} = 1,f_{G,C} = 0,f_{G,A} = 1,f_{C,A} = 1$ is a feasible flow.\n",
    "\n",
    "Example 2. $f_{S,F} = 2, f_{F,G} = 2,f_{F,C} = 2,f_{G,C} = 0,f_{G,A} = 2,f_{C,A} = 2$ is infeasible because France has two incoming units but four outgoing units. This violates the conservation constraints.\n",
    "\n",
    "Example 3. $f_{S,F} = 3, f_{F,G} = 2,f_{F,C} = 1,f_{G,C} = 1,f_{G,A} = 1,f_{C,A} = 1$ is infeasible because $f_{G,C} > 0.5$. This violates the capacity constraints. \n",
    "\n",
    "The <font color=\"blue\">value of a feasible flow</b></font> is the value of flow entering Austria, i.e., the value $f_{C,A}+f_{G,A}$.\n",
    "\n",
    "<font color=\"blue\"><b>Your task:</b></font> Write a linear program to find a flow of maximum value from Spain to Austria. To this end, introduce a variable for each flow value (as above), and try to formulate the capacity constraints as well as the flow conservation constraints as linear inequalities. Also, come up with a linear objective function such that maximizing it corresponds to maximizing the value of the flow given by the variables.<br>\n",
    "Finally, implement the LP, solve it, and check what the flow of maximum value is (i.e., say how much flow there is on every road of the network)."
   ]
  },
  {
   "cell_type": "code",
   "execution_count": null,
   "metadata": {},
   "outputs": [],
   "source": []
  }
 ],
 "metadata": {
  "kernelspec": {
   "display_name": "Python 3",
   "language": "python",
   "name": "python3"
  },
  "language_info": {
   "codemirror_mode": {
    "name": "ipython",
    "version": 3
   },
   "file_extension": ".py",
   "mimetype": "text/x-python",
   "name": "python",
   "nbconvert_exporter": "python",
   "pygments_lexer": "ipython3",
   "version": "3.7.3"
  }
 },
 "nbformat": 4,
 "nbformat_minor": 4
}
