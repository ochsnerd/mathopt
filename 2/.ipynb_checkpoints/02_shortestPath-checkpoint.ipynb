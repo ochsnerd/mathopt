{
 "cells": [
  {
   "cell_type": "markdown",
   "metadata": {},
   "source": [
    "# Exercise: Shortest $s$-$t$-path \n",
    "<font color='blue'><b>Goal:</b></font>\n",
    "Computing the $s$-$t$ distance through linear programming in two different ways.\n",
    "\n",
    "<font color='blue'><b>Required packages:</b></font>`pulp`, `networkx`, `random`, `matplotlib`\n",
    "\n",
    "We are given a directed graph $G=(V,A)$ with arc lengths $\\ell: A \\to \\mathbb{Z}_{\\geq 0}$, and two distinct vertices $s,t\\in V$. Our goal is to compute the $s$-$t$ distance $\\mathrm{d}(s,t)$, i.e., the distance from $s$ to $t$ in $G$, which is defined by\n",
    "\n",
    "\\begin{equation*}\n",
    "\\mathrm{d}(s,t) := \\min\\left\\{\\sum_{a\\in P} \\ell(a) : \\text{ $P\\subseteq A$, $P$ is an $s$-$t$ path in $G$}  \\right\\}\\enspace.\n",
    "\\end{equation*}\n",
    "\n",
    "To achieve this, let us use linear programming!\n",
    "\n",
    "## Toy example instance\n",
    "\n",
    "Let us start with an easy example. For your convenience, we created a module `shortestPath_module`, which includes some functionality for generating and drawing graphs. Execute the code below to generate and plot a toy example instance. Find a shortest $s$-$t$-path manually!"
   ]
  },
  {
   "cell_type": "code",
   "execution_count": 7,
   "metadata": {},
   "outputs": [
    {
     "data": {
      "image/png": "[encoded data removed]",
      "text/plain": [
       "<Figure size 432x288 with 1 Axes>"
      ]
     },
     "metadata": {},
     "output_type": "display_data"
    }
   ],
   "source": [
    "# Import the module\n",
    "import shortestPath_module as helpers\n",
    "%matplotlib inline\n",
    "\n",
    "# Generates and plots example graph\n",
    "G = helpers.toy_example()\n",
    "helpers.draw(G)"
   ]
  },
  {
   "cell_type": "markdown",
   "metadata": {},
   "source": [
    "## An LP-approach\n",
    "\n",
    "Consider the linear programming formulation seen in class, namely\n",
    "\n",
    "$$\n",
    "\\begin{array}{rrcll}\n",
    "\\max & d_t \\\\\n",
    "     & d_s & = & 0 \\\\\n",
    "     & d_v & \\leq & d_u + \\ell(a) & \\forall a=(u,v)\\in A \\\\\n",
    "     & d_v & \\geq & 0 & \\forall v\\in V\\enspace.\n",
    "\\end{array}\n",
    "$$\n",
    "\n",
    "Recall that it is proved in the script that the optimal value of the above linear program is indeed equal to the distance $\\mathrm{d}(s,t)$. Check the script for all details!\n",
    "\n",
    "<font color='blue'><b>Your task:</b></font> \n",
    "\n",
    "Implement this method to find $\\mathrm{d}(s,t)$ via the above linear program in a function\n",
    "\n",
    "    def distanceSToT(G,s,t)\n",
    "\n",
    "where $G$ is a directed graph as shown in the toy example above that has an edge attribute named `\"length\"` storing the edge lengths, and $s$ and $t$ are two distinct vertices of the graph. The function should return the distance $\\mathrm{d}(s,t)$ from $s$ to $t$.\n",
    "      \n"
   ]
  },
  {
   "cell_type": "code",
   "execution_count": 10,
   "metadata": {},
   "outputs": [
    {
     "ename": "SyntaxError",
     "evalue": "invalid syntax (<ipython-input-10-4d4b0819b329>, line 13)",
     "output_type": "error",
     "traceback": [
      "\u001b[0;36m  File \u001b[0;32m\"<ipython-input-10-4d4b0819b329>\"\u001b[0;36m, line \u001b[0;32m13\u001b[0m\n\u001b[0;31m    shortest_LP += (node_distances['s'] = 0)\u001b[0m\n\u001b[0m                                        ^\u001b[0m\n\u001b[0;31mSyntaxError\u001b[0m\u001b[0;31m:\u001b[0m invalid syntax\n"
     ]
    }
   ],
   "source": [
    "import pulp\n",
    "\n",
    "def distanceSToT(G):\n",
    "    shortest_LP = pulp.LpProblem(\"shortest s-t path\", pulp.LpMaximize)\n",
    "    \n",
    "    # create Variables\n",
    "    node_distances = pulp.LpVariable.dicts('', G.nodes, lowBound=0)\n",
    "    \n",
    "    # objective function\n",
    "    shortest_LP += node_distances['t']\n",
    "    \n",
    "    # constraints\n",
    "    shortest_LP += (node_distances['s'] == 0)\n",
    "    \n",
    "    for (u, v), edge_attrs in G.edges.items():\n",
    "        l = edge_attrs['length']\n",
    "        shortest_LP += (node_distances[v] <= node_distances[u] + l)\n",
    "    \n",
    "    print(shortest_LP)\n",
    "    \n",
    "    shortest_LP.solve()\n",
    "    return dst"
   ]
  },
  {
   "cell_type": "markdown",
   "metadata": {},
   "source": [
    "## Testing your implementation\n",
    "\n",
    "### Check on the toy example\n",
    "\n",
    "First check on the toy example given above that your procedures computes the correct $s$-$t$ distance by executing the code below. Did you get it right when doing it manually?"
   ]
  },
  {
   "cell_type": "code",
   "execution_count": 9,
   "metadata": {},
   "outputs": [
    {
     "name": "stdout",
     "output_type": "stream",
     "text": [
      "Your algorithm computes an s-t distance of 11.\n",
      "The actual s-t distance is 11.\n",
      "\n",
      "Congratulations! Your implementation is correct on the given instance.\n"
     ]
    }
   ],
   "source": [
    "helpers.check(distanceSToT, G)"
   ]
  },
  {
   "cell_type": "markdown",
   "metadata": {},
   "source": [
    "### Checks on a random instance\n",
    "\n",
    "Next, check that your procedure also returns the same $s$-$t$ distance on a randomly generated graph by executing the code below. Note that the generated random graphs might not have an $s$-$t$ path, at all. Just rerun the cell to generate a new one!"
   ]
  },
  {
   "cell_type": "code",
   "execution_count": null,
   "metadata": {},
   "outputs": [],
   "source": [
    "# Randomly generate G with given number of nodes\n",
    "G = helpers.random_graph(10)\n",
    "\n",
    "# Draw G\n",
    "helpers.draw(G)\n",
    "\n",
    "# Check the implementation on G\n",
    "helpers.check(distanceSToT, G)"
   ]
  }
 ],
 "metadata": {
  "kernelspec": {
   "display_name": "Python 3",
   "language": "python",
   "name": "python3"
  },
  "language_info": {
   "codemirror_mode": {
    "name": "ipython",
    "version": 3
   },
   "file_extension": ".py",
   "mimetype": "text/x-python",
   "name": "python",
   "nbconvert_exporter": "python",
   "pygments_lexer": "ipython3",
   "version": "3.7.3"
  }
 },
 "nbformat": 4,
 "nbformat_minor": 4
}
